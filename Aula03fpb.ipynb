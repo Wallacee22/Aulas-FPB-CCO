{
  "nbformat": 4,
  "nbformat_minor": 0,
  "metadata": {
    "colab": {
      "provenance": [],
      "authorship_tag": "ABX9TyM1eLP35HhedEaaxH2HzI96",
      "include_colab_link": true
    },
    "kernelspec": {
      "name": "python3",
      "display_name": "Python 3"
    },
    "language_info": {
      "name": "python"
    }
  },
  "cells": [
    {
      "cell_type": "markdown",
      "metadata": {
        "id": "view-in-github",
        "colab_type": "text"
      },
      "source": [
        "<a href=\"https://colab.research.google.com/github/Wallacee22/Aulas-FPB-CCO/blob/main/Aula03fpb.ipynb\" target=\"_parent\"><img src=\"https://colab.research.google.com/assets/colab-badge.svg\" alt=\"Open In Colab\"/></a>"
      ]
    },
    {
      "cell_type": "code",
      "execution_count": null,
      "metadata": {
        "id": "OeT8Kmia3FTn"
      },
      "outputs": [],
      "source": [
        "#APOSENTADORIA\n",
        "\n",
        "sexo= input('insira o s, m (masculino) ou f (feminino) ; ')\n",
        "idade= int(input(\"digite sua idade : \"))\n",
        "if((sexo == \"F\" and idade >= 55) or (sexo == \"H\" and idade >=60)):\n",
        "  print('pode se aposentar')\n",
        "else:\n",
        "  print('ainda nao pode')"
      ]
    },
    {
      "cell_type": "code",
      "source": [
        "#solicite três numeros A,B, e C\n",
        "#imprima na tela se A+B é menor que C.\n",
        "a = int(input('Digite o primeiro numero:' ))\n",
        "b = int(input('Digite o segundo numero:' ))\n",
        "c = int(input('Digite o terceiro numero:' ))\n",
        "if(a+b < c):\n",
        " print('É menor')\n",
        "elif(a + b == c):\n",
        "  print('é igual')\n",
        "else:\n",
        "  print('é maior')"
      ],
      "metadata": {
        "colab": {
          "base_uri": "https://localhost:8080/"
        },
        "id": "A2I7rrwu3L0N",
        "outputId": "acc0bd16-ba2e-461b-e437-eb733033267d"
      },
      "execution_count": 4,
      "outputs": [
        {
          "output_type": "stream",
          "name": "stdout",
          "text": [
            "Digite o primeiro numero:10\n",
            "Digite o segundo numero:10\n",
            "Digite o terceiro numero:30\n",
            "É menor\n"
          ]
        }
      ]
    },
    {
      "cell_type": "code",
      "source": [
        "#Listas são estruturas de dados formadas por elementos de um mesmo tipo\n",
        "numeros = [15, 2, 10, 5]\n",
        "numeros"
      ],
      "metadata": {
        "colab": {
          "base_uri": "https://localhost:8080/"
        },
        "id": "imcscN1g9WHZ",
        "outputId": "1841d95e-9880-4df8-c1b3-40c5c0238398"
      },
      "execution_count": 5,
      "outputs": [
        {
          "output_type": "execute_result",
          "data": {
            "text/plain": [
              "[15, 2, 10, 5]"
            ]
          },
          "metadata": {},
          "execution_count": 5
        }
      ]
    },
    {
      "cell_type": "code",
      "source": [
        "#tamanho de uma lista\n",
        "len(numeros)"
      ],
      "metadata": {
        "colab": {
          "base_uri": "https://localhost:8080/"
        },
        "id": "LyOkecdP9sFI",
        "outputId": "6915cd14-276b-4b2c-e9ea-48923e8a73c9"
      },
      "execution_count": 6,
      "outputs": [
        {
          "output_type": "execute_result",
          "data": {
            "text/plain": [
              "4"
            ]
          },
          "metadata": {},
          "execution_count": 6
        }
      ]
    },
    {
      "cell_type": "code",
      "source": [
        "#Indices [25, 4, 3, 6]\n",
        "print(numeros[0])\n",
        "print(numeros[1])\n",
        "print(numeros[2])\n",
        "print(numeros[3])"
      ],
      "metadata": {
        "colab": {
          "base_uri": "https://localhost:8080/"
        },
        "id": "kijsZ6Re9z-Y",
        "outputId": "8ea0f854-4d79-452f-bbc6-e9aea5099a0b"
      },
      "execution_count": 7,
      "outputs": [
        {
          "output_type": "stream",
          "name": "stdout",
          "text": [
            "15\n",
            "2\n",
            "10\n",
            "5\n"
          ]
        }
      ]
    },
    {
      "cell_type": "code",
      "source": [
        "#lista de outros tipos\n",
        "alunos = ['Mariana', 'Luiz', 'Higor', 'Enzo', 'Valentina']\n",
        "alunos"
      ],
      "metadata": {
        "colab": {
          "base_uri": "https://localhost:8080/"
        },
        "id": "kxupBCeq-QyP",
        "outputId": "65b047f1-058b-46f1-e071-23d072483057"
      },
      "execution_count": 8,
      "outputs": [
        {
          "output_type": "execute_result",
          "data": {
            "text/plain": [
              "['Mariana', 'Luiz', 'Higor', 'Enzo', 'Valentina']"
            ]
          },
          "metadata": {},
          "execution_count": 8
        }
      ]
    },
    {
      "cell_type": "code",
      "source": [
        "#alterar os valores de itens de lista\n",
        "alunos[3] = 'Ivan'\n",
        "alunos"
      ],
      "metadata": {
        "colab": {
          "base_uri": "https://localhost:8080/"
        },
        "id": "w-vjrMSO-rno",
        "outputId": "67e50769-5fef-41f5-c8a0-ec8fcfeb916c"
      },
      "execution_count": 10,
      "outputs": [
        {
          "output_type": "execute_result",
          "data": {
            "text/plain": [
              "['Mariana', 'Luiz', 'Higor', 'Ivan', 'Valentina']"
            ]
          },
          "metadata": {},
          "execution_count": 10
        }
      ]
    },
    {
      "cell_type": "code",
      "source": [
        "#inserir valores na lista .apprnd()\n",
        "alunos.append('Alex')\n",
        "alunos"
      ],
      "metadata": {
        "colab": {
          "base_uri": "https://localhost:8080/"
        },
        "id": "bCmznHqf_G3Q",
        "outputId": "5a9a9cce-bc1b-415c-c4e5-3dcf90f912e4"
      },
      "execution_count": 13,
      "outputs": [
        {
          "output_type": "execute_result",
          "data": {
            "text/plain": [
              "['Mariana', 'Luiz', 'Higor', 'Ivan', 'Valentina', 'Alex', 'Alex', 'Alex']"
            ]
          },
          "metadata": {},
          "execution_count": 13
        }
      ]
    },
    {
      "cell_type": "code",
      "source": [
        "alunos.append(input('Digite o nome: '))"
      ],
      "metadata": {
        "colab": {
          "base_uri": "https://localhost:8080/"
        },
        "id": "NmXhYxOJAA2y",
        "outputId": "ce06e24f-20bd-45c0-8567-ef24b5921a05"
      },
      "execution_count": 18,
      "outputs": [
        {
          "name": "stdout",
          "output_type": "stream",
          "text": [
            "Digite o nome: José\n"
          ]
        }
      ]
    },
    {
      "cell_type": "code",
      "source": [
        "alunos.pop()\n",
        "alunos"
      ],
      "metadata": {
        "colab": {
          "base_uri": "https://localhost:8080/"
        },
        "id": "_p-3wDY_Atfo",
        "outputId": "068cd8ab-818a-4f2a-f454-3831202d86bf"
      },
      "execution_count": 19,
      "outputs": [
        {
          "output_type": "execute_result",
          "data": {
            "text/plain": [
              "['Mariana',\n",
              " 'Luiz',\n",
              " 'Higor',\n",
              " 'Ivan',\n",
              " 'Valentina',\n",
              " 'Alex',\n",
              " 'Alex',\n",
              " 'Alex',\n",
              " 'Paulo']"
            ]
          },
          "metadata": {},
          "execution_count": 19
        }
      ]
    }
  ]
}