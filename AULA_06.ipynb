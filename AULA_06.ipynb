{
  "nbformat": 4,
  "nbformat_minor": 0,
  "metadata": {
    "colab": {
      "provenance": [],
      "authorship_tag": "ABX9TyPA6lytBkvrxC57WwGePMWl",
      "include_colab_link": true
    },
    "kernelspec": {
      "name": "python3",
      "display_name": "Python 3"
    },
    "language_info": {
      "name": "python"
    }
  },
  "cells": [
    {
      "cell_type": "markdown",
      "metadata": {
        "id": "view-in-github",
        "colab_type": "text"
      },
      "source": [
        "<a href=\"https://colab.research.google.com/github/Wallacee22/Aulas-FPB-CCO/blob/main/AULA_06.ipynb\" target=\"_parent\"><img src=\"https://colab.research.google.com/assets/colab-badge.svg\" alt=\"Open In Colab\"/></a>"
      ]
    },
    {
      "cell_type": "code",
      "source": [
        "#(Parentisis)Descobrir se um numero é par\n",
        "a = int(input('Digite um numero! '))\n",
        "if a % 2 ==0:\n",
        "  print('É par')\n",
        "else:\n",
        "  print('É impar')"
      ],
      "metadata": {
        "colab": {
          "base_uri": "https://localhost:8080/"
        },
        "id": "umTF6Hfe0hCh",
        "outputId": "7dd37c37-9d0d-4aec-8d6e-b78604b71de9"
      },
      "execution_count": 2,
      "outputs": [
        {
          "output_type": "stream",
          "name": "stdout",
          "text": [
            "Digite um numero! 30\n",
            "É par\n"
          ]
        }
      ]
    },
    {
      "cell_type": "code",
      "execution_count": 12,
      "metadata": {
        "colab": {
          "base_uri": "https://localhost:8080/"
        },
        "id": "EBS5xvjgzIuM",
        "outputId": "21c2f55a-b146-4cdc-e9ec-314aca82a9cc"
      },
      "outputs": [
        {
          "output_type": "execute_result",
          "data": {
            "text/plain": [
              "[0,\n",
              " 2,\n",
              " 4,\n",
              " 6,\n",
              " 8,\n",
              " 10,\n",
              " 12,\n",
              " 14,\n",
              " 16,\n",
              " 18,\n",
              " 20,\n",
              " 22,\n",
              " 24,\n",
              " 26,\n",
              " 28,\n",
              " 30,\n",
              " 32,\n",
              " 34,\n",
              " 36,\n",
              " 38,\n",
              " 40,\n",
              " 42,\n",
              " 44,\n",
              " 46,\n",
              " 48,\n",
              " 50]"
            ]
          },
          "metadata": {},
          "execution_count": 12
        }
      ],
      "source": [
        "#Printar os números pares positivos até 50\n",
        "numpares = []\n",
        "for num in range(51):\n",
        "  if(num % 2 == 0):\n",
        "    numpares.append(num)\n",
        "numpares\n"
      ]
    },
    {
      "cell_type": "code",
      "source": [
        "#retorne a soma dos numeros de 1 a 100\n",
        "soma = 0\n",
        "for n in range(100):\n",
        " soma= soma+n\n",
        " \n",
        "soma"
      ],
      "metadata": {
        "colab": {
          "base_uri": "https://localhost:8080/"
        },
        "id": "IV_CvceC4Nam",
        "outputId": "e633ec4f-b252-42e0-8cae-5a18c7a776cc"
      },
      "execution_count": 11,
      "outputs": [
        {
          "output_type": "execute_result",
          "data": {
            "text/plain": [
              "4950"
            ]
          },
          "metadata": {},
          "execution_count": 11
        }
      ]
    },
    {
      "cell_type": "code",
      "source": [
        "#criar um programa que lista os numeros de 1 a 10 \n",
        "##Precisamos de um contador\n",
        "cont = 0\n",
        "\n",
        "while (cont < 10):\n",
        "  print(cont +1)\n",
        "  cont+=1"
      ],
      "metadata": {
        "colab": {
          "base_uri": "https://localhost:8080/"
        },
        "id": "_ewe7Q279LUf",
        "outputId": "92493610-4670-4dcc-a548-ee18e85aa0a1"
      },
      "execution_count": 13,
      "outputs": [
        {
          "output_type": "stream",
          "name": "stdout",
          "text": [
            "1\n",
            "2\n",
            "3\n",
            "4\n",
            "5\n",
            "6\n",
            "7\n",
            "8\n",
            "9\n",
            "10\n"
          ]
        }
      ]
    },
    {
      "cell_type": "code",
      "source": [
        "#Pede ao usuario para inserir um numero inteiro maior que 1\n",
        "#o programa deve imprimir todos os numeros até o digitado.\n",
        "\n",
        "cont = 0 \n",
        "numero = int(input('Digite um numero; '))\n",
        "\n",
        "while (cont <= numero):\n",
        "  print(cont)\n",
        "  cont+=1"
      ],
      "metadata": {
        "colab": {
          "base_uri": "https://localhost:8080/"
        },
        "id": "q9KOhXy3_kse",
        "outputId": "cc2b7161-b417-4413-bd12-f67ca450227c"
      },
      "execution_count": 15,
      "outputs": [
        {
          "output_type": "stream",
          "name": "stdout",
          "text": [
            "Digite um numero; 85\n",
            "0\n",
            "1\n",
            "2\n",
            "3\n",
            "4\n",
            "5\n",
            "6\n",
            "7\n",
            "8\n",
            "9\n",
            "10\n",
            "11\n",
            "12\n",
            "13\n",
            "14\n",
            "15\n",
            "16\n",
            "17\n",
            "18\n",
            "19\n",
            "20\n",
            "21\n",
            "22\n",
            "23\n",
            "24\n",
            "25\n",
            "26\n",
            "27\n",
            "28\n",
            "29\n",
            "30\n",
            "31\n",
            "32\n",
            "33\n",
            "34\n",
            "35\n",
            "36\n",
            "37\n",
            "38\n",
            "39\n",
            "40\n",
            "41\n",
            "42\n",
            "43\n",
            "44\n",
            "45\n",
            "46\n",
            "47\n",
            "48\n",
            "49\n",
            "50\n",
            "51\n",
            "52\n",
            "53\n",
            "54\n",
            "55\n",
            "56\n",
            "57\n",
            "58\n",
            "59\n",
            "60\n",
            "61\n",
            "62\n",
            "63\n",
            "64\n",
            "65\n",
            "66\n",
            "67\n",
            "68\n",
            "69\n",
            "70\n",
            "71\n",
            "72\n",
            "73\n",
            "74\n",
            "75\n",
            "76\n",
            "77\n",
            "78\n",
            "79\n",
            "80\n",
            "81\n",
            "82\n",
            "83\n",
            "84\n",
            "85\n"
          ]
        }
      ]
    }
  ]
}